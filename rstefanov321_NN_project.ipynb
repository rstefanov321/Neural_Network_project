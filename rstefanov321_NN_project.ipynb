{
 "cells": [
  {
   "cell_type": "markdown",
   "id": "91b1149d",
   "metadata": {},
   "source": [
    "# Building a Neural Network to help recognise images of fruits and vegetables"
   ]
  },
  {
   "cell_type": "markdown",
   "id": "0df9b1fd",
   "metadata": {},
   "source": [
    "#### Author: Radoslav Stefanov, Lecturer: Yordan Darakchiev"
   ]
  },
  {
   "cell_type": "code",
   "execution_count": 1,
   "id": "2c449db6-38a9-44b3-a314-6556e2b05608",
   "metadata": {},
   "outputs": [
    {
     "name": "stdout",
     "output_type": "stream",
     "text": [
      "WARNING:tensorflow:From C:\\Users\\rstef\\AppData\\Local\\Programs\\Python\\Python310\\lib\\site-packages\\keras\\src\\losses.py:2976: The name tf.losses.sparse_softmax_cross_entropy is deprecated. Please use tf.compat.v1.losses.sparse_softmax_cross_entropy instead.\n",
      "\n"
     ]
    }
   ],
   "source": [
    "import mlflow\n",
    "import mlflow.tensorflow\n",
    "from mlflow.tracking import MlflowClient\n",
    "\n",
    "import os\n",
    "import random\n",
    "import shutil\n",
    "\n",
    "import tensorflow\n",
    "import matplotlib.pyplot as plt\n",
    "from tensorflow.keras.preprocessing.image import ImageDataGenerator\n",
    "from tensorflow.keras.models import Sequential\n",
    "from tensorflow.keras.layers import Dense, Flatten, Conv2D, MaxPooling2D\n",
    "\n",
    "import scipy\n",
    "from keras.callbacks import EarlyStopping"
   ]
  },
  {
   "cell_type": "code",
   "execution_count": 2,
   "id": "36841840",
   "metadata": {},
   "outputs": [],
   "source": [
    "# pip install mlflow"
   ]
  },
  {
   "cell_type": "code",
   "execution_count": 3,
   "id": "35c27717-251c-4f4d-90d0-093360914b88",
   "metadata": {},
   "outputs": [],
   "source": [
    "# import mlflow\n",
    "# import mlflow.tensorflow"
   ]
  },
  {
   "cell_type": "code",
   "execution_count": 4,
   "id": "836c7611-9418-475f-aa8e-30ca35ab014a",
   "metadata": {},
   "outputs": [],
   "source": [
    "epochs = 30"
   ]
  },
  {
   "cell_type": "code",
   "execution_count": 6,
   "id": "497c9027-5956-42a8-b49b-3dcab8da2153",
   "metadata": {},
   "outputs": [],
   "source": [
    "client = MlflowClient()\n",
    "\n",
    "# experiment_name=\"Fruit Neural Network experiment\"\n",
    "\n",
    "# new_experiment_fruit = client.create_experiment(experiment_name)"
   ]
  },
  {
   "cell_type": "code",
   "execution_count": 7,
   "id": "ec59b550-8698-4a1c-b5b2-86aab8786254",
   "metadata": {},
   "outputs": [
    {
     "name": "stderr",
     "output_type": "stream",
     "text": [
      "2023/11/27 12:14:05 WARNING mlflow.utils.git_utils: Failed to import Git (the Git executable is probably not on your PATH), so Git SHA is not available. Error: Failed to initialize: Bad git executable.\n",
      "The git executable must be specified in one of the following ways:\n",
      "    - be included in your $PATH\n",
      "    - be set via $GIT_PYTHON_GIT_EXECUTABLE\n",
      "    - explicitly set via git.refresh()\n",
      "\n",
      "All git commands will error until this is rectified.\n",
      "\n",
      "This initial warning can be silenced or aggravated in the future by setting the\n",
      "$GIT_PYTHON_REFRESH environment variable. Use one of the following values:\n",
      "    - quiet|q|silence|s|none|n|0: for no warning or exception\n",
      "    - warn|w|warning|1: for a printed warning\n",
      "    - error|e|raise|r|2: for a raised exception\n",
      "\n",
      "Example:\n",
      "    export GIT_PYTHON_REFRESH=quiet\n",
      "\n"
     ]
    },
    {
     "data": {
      "text/plain": [
       "(64, 64)"
      ]
     },
     "execution_count": 7,
     "metadata": {},
     "output_type": "execute_result"
    }
   ],
   "source": [
    "mlflow.start_run(experiment_id=914172388437437824)\n",
    "\n",
    "# Log some of the parameters\n",
    "mlflow.log_param(\"epochs\", epochs)\n",
    "mlflow.log_param(\"batch_size\", 32)\n",
    "mlflow.log_param(\"target_size\", (64, 64))"
   ]
  },
  {
   "cell_type": "markdown",
   "id": "dc23244f-492c-4a86-b493-ae9d5c79e59f",
   "metadata": {},
   "source": [
    "## Data Selection "
   ]
  },
  {
   "cell_type": "markdown",
   "id": "8dd5ef2f-317a-4b7a-b77c-9e36aa3162de",
   "metadata": {},
   "source": [
    "The first dataset that has been chosen is created by Kritik Seth. He has gathered 36 different types of fruit and vegetables, each of which has approx. 100 examples and they are split into three folders/datasets with the following names and their distributions(%):\n",
    "- train (80%)\n",
    "- test (10%)\n",
    "- validation (10%)\n",
    "\n",
    "All of them will be used in this analysis to train the model well and later to validate its accuracy. Their metrics are saved in the Mlflow project run. \n",
    "\n",
    "Then, the second dataset consists of images of fresh and stale fruit, from which only the images of the fresh ones will be trained on a new neural network. Since there are some inconsistencies in the classes between the two datasets, the following pre-processing will be done: \n",
    "1. The second dataset contains only 6 classes of fruit and 12 folders (fresh/stale), they will be reduced to 5 classes of fresh fruit, as those are the fruit that can be found in the first dataset as well.\n",
    "2. Then, the two datasets will be used together, by taking the train set of the first dataset as a validation set on the newly trained neural network. This will show how well the \"fresh fruit\" trained model classifies \"fairly\" new and different images of the same objects.\n",
    "\n",
    "To see the data, find the sources in the [References](#References) section of this document. \n",
    "\n",
    "First, let's preprocess the first dataset, create the neural network and evaluate the results. "
   ]
  },
  {
   "cell_type": "markdown",
   "id": "b95846c1",
   "metadata": {},
   "source": [
    "## Data Preprocessing"
   ]
  },
  {
   "cell_type": "markdown",
   "id": "98eb7db8-43f1-48ec-ace4-bf78b663a6b8",
   "metadata": {},
   "source": [
    "### Use the ImageDataGenerator for data augmentation and preprocessing"
   ]
  },
  {
   "cell_type": "markdown",
   "id": "83172233-d80a-4768-9083-e174e4c039f2",
   "metadata": {},
   "source": [
    "In the parameters of the ImageDataGenerator class, we Normalize the pixel values to the range [0, 1] to allow for more efficient and consistent training of the model. The horizontal flip parameter has been set to True to increases the diversity of the training data. "
   ]
  },
  {
   "cell_type": "code",
   "execution_count": 8,
   "id": "5a11f524-8343-4950-b434-2b54d89e8c87",
   "metadata": {},
   "outputs": [],
   "source": [
    "datagen = ImageDataGenerator(\n",
    "    rescale=1./255, # Normalize the pixel values to the range [0, 1]\n",
    "    horizontal_flip=True, # random flipping increases the diversity of the training data. \n",
    ")"
   ]
  },
  {
   "cell_type": "markdown",
   "id": "e3887a02-2ad4-4999-bc57-47bce418fe43",
   "metadata": {},
   "source": [
    "### Load and preprocess the training set"
   ]
  },
  {
   "cell_type": "markdown",
   "id": "d81e105f-2ce4-4f08-8918-1cd6c8380239",
   "metadata": {},
   "source": [
    "When the data is being saved, it must be **at the same level** as the Jupyter Notebook and the name of the unzipped folder must be <b> fruits_veg <b>"
   ]
  },
  {
   "cell_type": "code",
   "execution_count": 9,
   "id": "0891ff68",
   "metadata": {},
   "outputs": [],
   "source": [
    "current_directory = os.getcwd()\n",
    "\n",
    "train_data_dir = current_directory + r\"\\fruits_veg\\train\"\n",
    "# Example: C:\\Users\\user\\Documents\\folder1\\folder2\\fruits_veg\\train\n",
    "\n",
    "test_data_dir = current_directory + r\"\\fruits_veg\\test\"\n",
    "\n",
    "validation_data_dir = current_directory + r\"\\fruits_veg\\validation\""
   ]
  },
  {
   "cell_type": "markdown",
   "id": "a9ffa196-4980-43f5-8c09-db26ae788d7b",
   "metadata": {},
   "source": [
    "As it can be seen from the three generators below, the datagen variable containinig the ImageDataGenerator class has been configured to resize the images to 64x64 pixels, split the data into batches of 32 for better processing and the class_mode has been set to categorical to indicate that we are looking for specific categories."
   ]
  },
  {
   "cell_type": "code",
   "execution_count": 10,
   "id": "51a506d5-75db-426f-a2d9-853e9ae9887b",
   "metadata": {
    "scrolled": true
   },
   "outputs": [
    {
     "name": "stdout",
     "output_type": "stream",
     "text": [
      "Found 3115 images belonging to 36 classes.\n"
     ]
    }
   ],
   "source": [
    "train_generator = datagen.flow_from_directory(\n",
    "    train_data_dir,\n",
    "    target_size=(64, 64),\n",
    "    batch_size=32,\n",
    "    class_mode=\"categorical\"\n",
    ")"
   ]
  },
  {
   "cell_type": "markdown",
   "id": "b465e69e-62dd-46e9-bd5c-138eff86c665",
   "metadata": {},
   "source": [
    "Log the number of classes for the first dataset and the number of images in the train set"
   ]
  },
  {
   "cell_type": "code",
   "execution_count": 11,
   "id": "4e340de8-3cf3-4ad6-843b-e9ca03074410",
   "metadata": {},
   "outputs": [
    {
     "data": {
      "text/plain": [
       "3115"
      ]
     },
     "execution_count": 11,
     "metadata": {},
     "output_type": "execute_result"
    }
   ],
   "source": [
    "mlflow.log_param(\"First_dataset_num_classes\", train_generator.num_classes)\n",
    "mlflow.log_param(\"First_dataset_train_num_images\", len(train_generator.filenames))"
   ]
  },
  {
   "cell_type": "markdown",
   "id": "9c28366d-f80b-4811-a1a5-8d2e184a0af4",
   "metadata": {},
   "source": [
    "### Load and preprocess the test set"
   ]
  },
  {
   "cell_type": "markdown",
   "id": "bc976a04-852e-485a-9fab-21f67865fb92",
   "metadata": {},
   "source": [
    "It is used on a newly loaded model which does not have the saved weigths, it gets it from a special folder - checkpoints:"
   ]
  },
  {
   "cell_type": "code",
   "execution_count": 12,
   "id": "f0b1a33a-62e1-44b3-9ac6-9c01274915e0",
   "metadata": {
    "scrolled": true
   },
   "outputs": [
    {
     "name": "stdout",
     "output_type": "stream",
     "text": [
      "Found 359 images belonging to 36 classes.\n"
     ]
    }
   ],
   "source": [
    "test_generator = datagen.flow_from_directory(\n",
    "    test_data_dir,\n",
    "    target_size=(64, 64),\n",
    "    batch_size=32, # it results to 97 batches, as there are 3115 images\n",
    "    class_mode=\"categorical\"\n",
    ")"
   ]
  },
  {
   "cell_type": "markdown",
   "id": "60df9beb-3410-45c5-bf48-a3d6d345f607",
   "metadata": {},
   "source": [
    "Log the number of test samples:"
   ]
  },
  {
   "cell_type": "code",
   "execution_count": 13,
   "id": "4200da63-a81b-4fcb-a14e-3e80f35c60fe",
   "metadata": {},
   "outputs": [
    {
     "data": {
      "text/plain": [
       "359"
      ]
     },
     "execution_count": 13,
     "metadata": {},
     "output_type": "execute_result"
    }
   ],
   "source": [
    "mlflow.log_param(\"First_dataset_test_num_images\", len(test_generator.filenames))"
   ]
  },
  {
   "cell_type": "markdown",
   "id": "2e559ce4-fb28-4eb7-82bc-a2f8352d23fa",
   "metadata": {},
   "source": [
    "### Load and preprocess the validation set"
   ]
  },
  {
   "cell_type": "code",
   "execution_count": 14,
   "id": "504b341c-b3bb-43d5-8c71-e91d9513c37a",
   "metadata": {},
   "outputs": [
    {
     "name": "stdout",
     "output_type": "stream",
     "text": [
      "Found 351 images belonging to 36 classes.\n"
     ]
    }
   ],
   "source": [
    "validation_generator = datagen.flow_from_directory(\n",
    "    validation_data_dir,\n",
    "    target_size=(64, 64),\n",
    "    batch_size=32, # it results to 97 batches, as there are 3115 images\n",
    "    class_mode=\"categorical\"\n",
    ")"
   ]
  },
  {
   "cell_type": "markdown",
   "id": "99fa7261-3d21-4bd5-8eee-a5771685d3c7",
   "metadata": {},
   "source": [
    "Log the number of validation images:"
   ]
  },
  {
   "cell_type": "code",
   "execution_count": 15,
   "id": "85288020-3329-4ebd-9226-b86c5825cdf3",
   "metadata": {},
   "outputs": [
    {
     "data": {
      "text/plain": [
       "351"
      ]
     },
     "execution_count": 15,
     "metadata": {},
     "output_type": "execute_result"
    }
   ],
   "source": [
    "mlflow.log_param(\"First_dataset_val_num_images\", len(validation_generator.filenames))"
   ]
  },
  {
   "cell_type": "markdown",
   "id": "a4403cfb",
   "metadata": {},
   "source": [
    "## Model Selection"
   ]
  },
  {
   "cell_type": "markdown",
   "id": "8ce4bfa0-727e-4bea-baca-c2e0063eecb6",
   "metadata": {},
   "source": [
    "### Creation of the Model "
   ]
  },
  {
   "cell_type": "markdown",
   "id": "1758daa6-34ee-46f2-991a-6815b6d22e1c",
   "metadata": {},
   "source": [
    "As already mentioned, the chosen model for the analysis is a Neural Network having 2 convolutional layers. The input requirements have been set in the creation of the first layer -> the input shape of each image needs to be 64 x 64 pixels with 3 channels. This is why we see the target_size of the preprocessed images to have the values (64, 64). \n",
    "\n",
    "The MaxPooling2D function applies a 2x2 processing of the images, so that the most important information about the image can be more easily extracted. The specifics of the model are also shown below.\n",
    "\n",
    "The categorical_crossentropy loss function is used specifically for multi-class categorisation algorithms, this is why it is chosen in the compile function. \n",
    "\n",
    "The reason for choosing the metrics to be \"accuracy\" is the fact that it will be easier to interpret and the datasets are relatively evenly split between each other. "
   ]
  },
  {
   "cell_type": "code",
   "execution_count": 16,
   "id": "4f75e92b-5a5c-4a19-9606-81edb59b4b92",
   "metadata": {},
   "outputs": [],
   "source": [
    "def create_model():\n",
    "    \n",
    "    # Create the NN model: \n",
    "    model = Sequential()\n",
    "    \n",
    "    # Add a convolutional layer with ReLU activation\n",
    "    model.add(Conv2D(32, (3, 3), activation=\"relu\", input_shape=(64, 64, 3)))\n",
    "    model.add(MaxPooling2D((2, 2)))\n",
    "    \n",
    "    # Add another convolutional layer\n",
    "    model.add(Conv2D(64, (3, 3), activation=\"relu\"))\n",
    "    model.add(MaxPooling2D((2, 2)))\n",
    "    \n",
    "    # Flatten the output and add a Dense layer with a ReLU activation\n",
    "    model.add(Flatten())\n",
    "    model.add(Dense(64, activation=\"relu\"))\n",
    "    \n",
    "    # Add the output layer \n",
    "    model.add(Dense(36, activation=\"softmax\"))\n",
    "    \n",
    "    # Compile the model:\n",
    "    model.compile(optimizer=\"adam\",\n",
    "                  loss=\"categorical_crossentropy\", \n",
    "                  metrics=[\"accuracy\"]\n",
    "                 )\n",
    "    return model"
   ]
  },
  {
   "cell_type": "code",
   "execution_count": 17,
   "id": "e9d50fe0-408f-4179-92d1-3e2b506bf98c",
   "metadata": {},
   "outputs": [
    {
     "name": "stdout",
     "output_type": "stream",
     "text": [
      "WARNING:tensorflow:From C:\\Users\\rstef\\AppData\\Local\\Programs\\Python\\Python310\\lib\\site-packages\\keras\\src\\backend.py:873: The name tf.get_default_graph is deprecated. Please use tf.compat.v1.get_default_graph instead.\n",
      "\n",
      "WARNING:tensorflow:From C:\\Users\\rstef\\AppData\\Local\\Programs\\Python\\Python310\\lib\\site-packages\\keras\\src\\layers\\pooling\\max_pooling2d.py:161: The name tf.nn.max_pool is deprecated. Please use tf.nn.max_pool2d instead.\n",
      "\n",
      "WARNING:tensorflow:From C:\\Users\\rstef\\AppData\\Local\\Programs\\Python\\Python310\\lib\\site-packages\\keras\\src\\optimizers\\__init__.py:309: The name tf.train.Optimizer is deprecated. Please use tf.compat.v1.train.Optimizer instead.\n",
      "\n",
      "Model: \"sequential\"\n",
      "_________________________________________________________________\n",
      " Layer (type)                Output Shape              Param #   \n",
      "=================================================================\n",
      " conv2d (Conv2D)             (None, 62, 62, 32)        896       \n",
      "                                                                 \n",
      " max_pooling2d (MaxPooling2  (None, 31, 31, 32)        0         \n",
      " D)                                                              \n",
      "                                                                 \n",
      " conv2d_1 (Conv2D)           (None, 29, 29, 64)        18496     \n",
      "                                                                 \n",
      " max_pooling2d_1 (MaxPoolin  (None, 14, 14, 64)        0         \n",
      " g2D)                                                            \n",
      "                                                                 \n",
      " flatten (Flatten)           (None, 12544)             0         \n",
      "                                                                 \n",
      " dense (Dense)               (None, 64)                802880    \n",
      "                                                                 \n",
      " dense_1 (Dense)             (None, 36)                2340      \n",
      "                                                                 \n",
      "=================================================================\n",
      "Total params: 824612 (3.15 MB)\n",
      "Trainable params: 824612 (3.15 MB)\n",
      "Non-trainable params: 0 (0.00 Byte)\n",
      "_________________________________________________________________\n"
     ]
    }
   ],
   "source": [
    "model = create_model()\n",
    "model.summary()"
   ]
  },
  {
   "cell_type": "markdown",
   "id": "c5fcb63d-8c1a-408e-a09b-8639299e6a19",
   "metadata": {},
   "source": [
    "### Set an early stopping mechanism for more effective tracking of the training process - convergence. "
   ]
  },
  {
   "cell_type": "code",
   "execution_count": 18,
   "id": "7d07e649-ddf5-459e-bfbd-bd4b5e0f967d",
   "metadata": {},
   "outputs": [],
   "source": [
    "# import scipy\n",
    "# from keras.callbacks import EarlyStopping"
   ]
  },
  {
   "cell_type": "code",
   "execution_count": 19,
   "id": "c54ec1f7-ec8f-4aea-91dd-3fea09206027",
   "metadata": {},
   "outputs": [],
   "source": [
    "early_stopping = EarlyStopping(monitor=\"val_accuracy\",\n",
    "                               patience=3\n",
    "                              )"
   ]
  },
  {
   "cell_type": "markdown",
   "id": "0bd14046-7bff-4fa9-8f60-e0dd580bb45f",
   "metadata": {},
   "source": [
    "Log the early stopping parameters"
   ]
  },
  {
   "cell_type": "code",
   "execution_count": 20,
   "id": "058dce27-9dc6-487d-a7e1-a1ef9a29d459",
   "metadata": {},
   "outputs": [
    {
     "data": {
      "text/plain": [
       "'val_accuracy'"
      ]
     },
     "execution_count": 20,
     "metadata": {},
     "output_type": "execute_result"
    }
   ],
   "source": [
    "mlflow.log_param(\"Early_stopping_patience\", early_stopping.patience)\n",
    "mlflow.log_param(\"Early_stopping_monitor\", early_stopping.monitor)"
   ]
  },
  {
   "cell_type": "markdown",
   "id": "9418aee3",
   "metadata": {},
   "source": [
    "## Fitting the First Neural Network "
   ]
  },
  {
   "cell_type": "code",
   "execution_count": 21,
   "id": "d517fc07-36c8-42bb-a51d-9af311a9bbe8",
   "metadata": {
    "scrolled": true
   },
   "outputs": [
    {
     "name": "stderr",
     "output_type": "stream",
     "text": [
      "C:\\Users\\rstef\\AppData\\Local\\Temp\\ipykernel_12060\\2803833002.py:1: UserWarning: `Model.fit_generator` is deprecated and will be removed in a future version. Please use `Model.fit`, which supports generators.\n",
      "  history = model.fit_generator(\n"
     ]
    },
    {
     "name": "stdout",
     "output_type": "stream",
     "text": [
      "Epoch 1/30\n",
      "WARNING:tensorflow:From C:\\Users\\rstef\\AppData\\Local\\Programs\\Python\\Python310\\lib\\site-packages\\keras\\src\\utils\\tf_utils.py:492: The name tf.ragged.RaggedTensorValue is deprecated. Please use tf.compat.v1.ragged.RaggedTensorValue instead.\n",
      "\n",
      "WARNING:tensorflow:From C:\\Users\\rstef\\AppData\\Local\\Programs\\Python\\Python310\\lib\\site-packages\\keras\\src\\engine\\base_layer_utils.py:384: The name tf.executing_eagerly_outside_functions is deprecated. Please use tf.compat.v1.executing_eagerly_outside_functions instead.\n",
      "\n",
      " 3/97 [..............................] - ETA: 1:03 - loss: 3.7568 - accuracy: 0.0267"
     ]
    },
    {
     "name": "stderr",
     "output_type": "stream",
     "text": [
      "C:\\Users\\rstef\\AppData\\Local\\Programs\\Python\\Python310\\lib\\site-packages\\PIL\\Image.py:979: UserWarning: Palette images with Transparency expressed in bytes should be converted to RGBA images\n",
      "  warnings.warn(\n"
     ]
    },
    {
     "name": "stdout",
     "output_type": "stream",
     "text": [
      "97/97 [==============================] - 104s 1s/step - loss: 3.3684 - accuracy: 0.0671 - val_loss: 2.8882 - val_accuracy: 0.1750\n",
      "Epoch 2/30\n",
      "97/97 [==============================] - 72s 749ms/step - loss: 2.7376 - accuracy: 0.2082 - val_loss: 2.2223 - val_accuracy: 0.3281\n",
      "Epoch 3/30\n",
      "97/97 [==============================] - 73s 752ms/step - loss: 2.3581 - accuracy: 0.3101 - val_loss: 1.7194 - val_accuracy: 0.5063\n",
      "Epoch 4/30\n",
      "97/97 [==============================] - 73s 751ms/step - loss: 2.1194 - accuracy: 0.3694 - val_loss: 1.4577 - val_accuracy: 0.5781\n",
      "Epoch 5/30\n",
      "97/97 [==============================] - 73s 750ms/step - loss: 1.8914 - accuracy: 0.4376 - val_loss: 1.2607 - val_accuracy: 0.6656\n",
      "Epoch 6/30\n",
      "97/97 [==============================] - 73s 749ms/step - loss: 1.6953 - accuracy: 0.5011 - val_loss: 1.2145 - val_accuracy: 0.6656\n",
      "Epoch 7/30\n",
      "97/97 [==============================] - 73s 756ms/step - loss: 1.5157 - accuracy: 0.5524 - val_loss: 1.0098 - val_accuracy: 0.6938\n",
      "Epoch 8/30\n",
      "97/97 [==============================] - 73s 748ms/step - loss: 1.3245 - accuracy: 0.6114 - val_loss: 0.8691 - val_accuracy: 0.7437\n",
      "Epoch 9/30\n",
      "97/97 [==============================] - 72s 740ms/step - loss: 1.2004 - accuracy: 0.6516 - val_loss: 0.7134 - val_accuracy: 0.8344\n",
      "Epoch 10/30\n",
      "97/97 [==============================] - 73s 752ms/step - loss: 0.9809 - accuracy: 0.7220 - val_loss: 0.5798 - val_accuracy: 0.8344\n",
      "Epoch 11/30\n",
      "97/97 [==============================] - 73s 753ms/step - loss: 0.8596 - accuracy: 0.7467 - val_loss: 0.5537 - val_accuracy: 0.8844\n",
      "Epoch 12/30\n",
      "97/97 [==============================] - 73s 753ms/step - loss: 0.7305 - accuracy: 0.7963 - val_loss: 0.5031 - val_accuracy: 0.8813\n",
      "Epoch 13/30\n",
      "97/97 [==============================] - 73s 744ms/step - loss: 0.5998 - accuracy: 0.8330 - val_loss: 0.4296 - val_accuracy: 0.9156\n",
      "Epoch 14/30\n",
      "97/97 [==============================] - 72s 734ms/step - loss: 0.5130 - accuracy: 0.8550 - val_loss: 0.3629 - val_accuracy: 0.9375\n",
      "Epoch 15/30\n",
      "97/97 [==============================] - 73s 750ms/step - loss: 0.4238 - accuracy: 0.8884 - val_loss: 0.3591 - val_accuracy: 0.9281\n",
      "Epoch 16/30\n",
      "97/97 [==============================] - 73s 755ms/step - loss: 0.3556 - accuracy: 0.9024 - val_loss: 0.3961 - val_accuracy: 0.9281\n",
      "Epoch 17/30\n",
      "97/97 [==============================] - 73s 750ms/step - loss: 0.2911 - accuracy: 0.9225 - val_loss: 0.3021 - val_accuracy: 0.9469\n",
      "Epoch 18/30\n",
      "97/97 [==============================] - 73s 751ms/step - loss: 0.2483 - accuracy: 0.9361 - val_loss: 0.3643 - val_accuracy: 0.9469\n",
      "Epoch 19/30\n",
      "97/97 [==============================] - 72s 744ms/step - loss: 0.2033 - accuracy: 0.9494 - val_loss: 0.3154 - val_accuracy: 0.9438\n",
      "Epoch 20/30\n",
      "97/97 [==============================] - 72s 747ms/step - loss: 0.1502 - accuracy: 0.9646 - val_loss: 0.4438 - val_accuracy: 0.9219\n"
     ]
    }
   ],
   "source": [
    "history = model.fit_generator(\n",
    "    train_generator,\n",
    "    steps_per_epoch=train_generator.samples // train_generator.batch_size,\n",
    "    epochs = epochs,\n",
    "    validation_data = validation_generator,\n",
    "    validation_steps = validation_generator.samples // validation_generator.batch_size,\n",
    "    callbacks=[early_stopping]\n",
    ")"
   ]
  },
  {
   "cell_type": "markdown",
   "id": "870c8f05-e495-4c58-8b72-412c5ba9c4b3",
   "metadata": {},
   "source": [
    "#### Plot the training / test history to see how the losses diminish with each epoch"
   ]
  },
  {
   "cell_type": "code",
   "execution_count": 22,
   "id": "65642bd6-595a-4cec-83c1-195a11afe1ff",
   "metadata": {},
   "outputs": [],
   "source": [
    "# import matplotlib.pyplot as pltjkk"
   ]
  },
  {
   "cell_type": "code",
   "execution_count": 23,
   "id": "1a8f904f-3318-4768-80bf-98bd4d4fb01a",
   "metadata": {
    "scrolled": true
   },
   "outputs": [
    {
     "data": {
      "image/png": "[encoded data removed]",
      "text/plain": [
       "<Figure size 640x480 with 1 Axes>"
      ]
     },
     "metadata": {},
     "output_type": "display_data"
    }
   ],
   "source": [
    "plt.plot(history.history['loss'], label='train')\n",
    "plt.plot(history.history['val_loss'], label='test')\n",
    "plt.ylabel(\"Loss per epoch\")\n",
    "plt.xlabel(\"Epochs\")\n",
    "plt.title(\"Loss curves for the test and train set\")\n",
    "plt.legend()\n",
    "plt.show()"
   ]
  },
  {
   "cell_type": "markdown",
   "id": "d8b1b3c9-def7-4f35-a8b8-45ff5e0504af",
   "metadata": {},
   "source": [
    "#### Plot the training / test accuracy to see where the model converges: "
   ]
  },
  {
   "cell_type": "code",
   "execution_count": 24,
   "id": "51911858-ea59-4bcf-9836-2fb8b576b312",
   "metadata": {},
   "outputs": [
    {
     "data": {
      "image/png": "[encoded data removed]",
      "text/plain": [
       "<Figure size 640x480 with 1 Axes>"
      ]
     },
     "metadata": {},
     "output_type": "display_data"
    }
   ],
   "source": [
    "plt.plot(history.history['accuracy'], label='train_acc')\n",
    "plt.plot(history.history['val_accuracy'], label='test_acc')\n",
    "plt.ylabel(\"Accuracy per epoch\")\n",
    "plt.xlabel(\"Epochs\")\n",
    "plt.title(\"Accuracy curves for the test and train set\")\n",
    "plt.legend()\n",
    "plt.show()"
   ]
  },
  {
   "cell_type": "markdown",
   "id": "7982a6bc-fddf-4361-9727-86fcf92fb841",
   "metadata": {},
   "source": [
    "#### Save the weights of the entire model:\n"
   ]
  },
  {
   "cell_type": "code",
   "execution_count": 25,
   "id": "e9d4edfa-8333-4c96-bda5-4eb39cfa64e1",
   "metadata": {},
   "outputs": [],
   "source": [
    "model.save_weights(\"./checkpoints/my_checkpoint\")"
   ]
  },
  {
   "cell_type": "markdown",
   "id": "887990a5-c95e-416e-9b09-ea7bc24502e3",
   "metadata": {},
   "source": [
    "#### Create a new model instance that does not have the knowledge obtained from the training set:\n"
   ]
  },
  {
   "cell_type": "code",
   "execution_count": 26,
   "id": "e531eda0-8bfd-4b08-afad-ae1440ebff4d",
   "metadata": {},
   "outputs": [],
   "source": [
    "new_model = create_model()"
   ]
  },
  {
   "cell_type": "markdown",
   "id": "676d88fe-6c39-4eba-a22d-01a57febc998",
   "metadata": {},
   "source": [
    "#### Restore the weights and load them on to the new model:"
   ]
  },
  {
   "cell_type": "code",
   "execution_count": 27,
   "id": "54169255-bcd4-4149-8780-160711bddc76",
   "metadata": {},
   "outputs": [
    {
     "data": {
      "text/plain": [
       "<tensorflow.python.checkpoint.checkpoint.CheckpointLoadStatus at 0x26a000c6050>"
      ]
     },
     "execution_count": 27,
     "metadata": {},
     "output_type": "execute_result"
    }
   ],
   "source": [
    "new_model.load_weights(\"./checkpoints/my_checkpoint\")"
   ]
  },
  {
   "cell_type": "markdown",
   "id": "509eb0da-86a9-42dd-9c55-e0f3931c8bd1",
   "metadata": {},
   "source": [
    "### Evaluate the new model with the origial weights: \n"
   ]
  },
  {
   "cell_type": "code",
   "execution_count": 28,
   "id": "a9cdbce6-a69a-4016-9d94-abd6d1754777",
   "metadata": {},
   "outputs": [
    {
     "name": "stdout",
     "output_type": "stream",
     "text": [
      "12/12 - 13s - loss: 0.4242 - accuracy: 0.9081 - 13s/epoch - 1s/step\n",
      "0.4242260456085205 0.9080780148506165\n"
     ]
    }
   ],
   "source": [
    "loss, acc = new_model.evaluate(test_generator, verbose=2)\n",
    "print(loss, acc)"
   ]
  },
  {
   "cell_type": "markdown",
   "id": "aa656971-e0f1-4f95-93ee-b244bf73ec1f",
   "metadata": {},
   "source": [
    "### Logging results, metrics  "
   ]
  },
  {
   "cell_type": "markdown",
   "id": "09d427bc-a3e3-4bf7-8c37-44bdb8e52bd4",
   "metadata": {},
   "source": [
    "#### Log the loss and accuracy of the original model and the new one into MLflow"
   ]
  },
  {
   "cell_type": "code",
   "execution_count": 29,
   "id": "7bd233cb-9cf2-4249-af68-bc47d9b239e0",
   "metadata": {},
   "outputs": [],
   "source": [
    "mlflow.log_metric(\"min_final_loss\", round(min(history.history[\"val_loss\"]), 4))\n",
    "mlflow.log_metric(\"max_final_accuracy\", round(max(history.history[\"val_accuracy\"]), 4))\n",
    "\n",
    "mlflow.log_metric(\"Validation_data_loss\", round(loss, 4))\n",
    "mlflow.log_metric(\"Validation_data_accuracy\", round(acc, 4))"
   ]
  },
  {
   "cell_type": "markdown",
   "id": "dc7a323d-9a11-4ce0-9c5b-109b1c4f1562",
   "metadata": {},
   "source": [
    "## Second dataset - Fresh and Stale fruit"
   ]
  },
  {
   "cell_type": "markdown",
   "id": "55947f63-9283-4f4b-a87d-0735c6081cdc",
   "metadata": {},
   "source": [
    "As discussed in the beginning, the number of classes of fruit found in both datasets is 5. Therefore, first we have to take them from both datasets as follows:\n"
   ]
  },
  {
   "cell_type": "markdown",
   "id": "90c59e2b-d362-45cb-ac0a-d39819ce3b47",
   "metadata": {},
   "source": [
    "### Split the Fresh dataset folders into training and test sets: "
   ]
  },
  {
   "cell_type": "code",
   "execution_count": 30,
   "id": "3eee234b-1801-476a-aee0-3e989bdc27b8",
   "metadata": {},
   "outputs": [],
   "source": [
    "# import os\n",
    "# import random\n",
    "# import shutil"
   ]
  },
  {
   "cell_type": "code",
   "execution_count": 31,
   "id": "91aece0f-1f2f-4dc3-be78-dee5f5389200",
   "metadata": {},
   "outputs": [],
   "source": [
    "def split_folder(input_folder, train_fresh_folder, test_fresh_folder, split_ratio, seed=21):\n",
    "    # create the output folders:\n",
    "    os.makedirs(train_fresh_folder, exist_ok=True)\n",
    "    os.makedirs(test_fresh_folder, exist_ok=True)\n",
    "\n",
    "    # List all files in the input folder\n",
    "    all_files = os.listdir(input_folder)\n",
    "\n",
    "    # calculate the split index \n",
    "    split_index = int(len(all_files) * split_ratio)\n",
    "\n",
    "    # move the files to the train_fresh_folder and test_fresh_folder\n",
    "    for i, file in enumerate(all_files):\n",
    "        source_path = os.path.join(input_folder, file)\n",
    "        if i < split_index:\n",
    "            destination_path = os.path.join(train_fresh_folder, file)\n",
    "        else:\n",
    "            destination_path = os.path.join(test_fresh_folder, file)\n",
    "        shutil.copy2(source_path, destination_path)"
   ]
  },
  {
   "cell_type": "markdown",
   "id": "36e2df44-5ee5-4671-b6eb-a06e4b027236",
   "metadata": {},
   "source": [
    "Find all the folders in the first dataset:"
   ]
  },
  {
   "cell_type": "code",
   "execution_count": null,
   "id": "2bde791e-48bd-4353-b329-ec6ddcb20c9a",
   "metadata": {},
   "outputs": [],
   "source": [
    "train_data_list = os.listdir(train_data_dir)\n",
    "train_data_list"
   ]
  },
  {
   "cell_type": "markdown",
   "id": "691e60b2-c0f1-4ad5-844c-4b89e807576e",
   "metadata": {},
   "source": [
    "Rename the fresh fruit folder names to match the classes from the first set"
   ]
  },
  {
   "cell_type": "code",
   "execution_count": 9,
   "id": "83a163d6-a84a-4e79-934e-459189f29193",
   "metadata": {},
   "outputs": [],
   "source": [
    "# Set the folder where to look for the FRESH data (depends how you name the folder in which the fresh/stale dataset is saved)\n",
    "fresh_fruit_path = current_directory + r\"\\fresh_fruit\""
   ]
  },
  {
   "cell_type": "code",
   "execution_count": null,
   "id": "52562a78-b6f9-494a-b82d-37ca0266cbcd",
   "metadata": {},
   "outputs": [],
   "source": [
    "fresh_rm_str = \"fresh_\"\n",
    "\n",
    "# List all items from the directory\n",
    "fresh_fruit_list = os.listdir(fresh_fruit_path)\n",
    "\n",
    "# Filter only the folders containing \"fresh_\" in their names, this needs to be removed, so that the classes match in each dataset\n",
    "fresh_filtered_folders = [item for item in fresh_fruit_list if os.path.isdir(os.path.join(fresh_fruit_path, item)) and fresh_rm_str in item]\n",
    "\n",
    "# Print the filtered folders:\n",
    "print(\"Filtered folders:\")\n",
    "for folder in fresh_filtered_folders:\n",
    "    print(folder)"
   ]
  },
  {
   "cell_type": "code",
   "execution_count": null,
   "id": "eb0135ba-ddc6-4ac1-8d37-344fbe1485c3",
   "metadata": {},
   "outputs": [],
   "source": [
    "# Specify pattern to rename\n",
    "old_text = \"fresh_\"\n",
    "new_text = \"\"\n",
    "\n",
    "# Rename those folders\n",
    "for old_fresh_folder_name in fresh_filtered_folders:\n",
    "    # Create the new folder names \n",
    "    new_fresh_folder_name = old_fresh_folder_name.replace(old_text, new_text)\n",
    "\n",
    "    # Create the full paths \n",
    "    old_fresh_folder_path = os.path.join(fresh_fruit_path, old_fresh_folder_name)\n",
    "    new_fresh_folder_path = os.path.join(fresh_fruit_path, new_fresh_folder_name)\n",
    "\n",
    "    # Rename the folder\n",
    "    os.rename(old_fresh_folder_path, new_fresh_folder_path)\n",
    "\n",
    "print(\"Folders renamed successfully\")"
   ]
  },
  {
   "cell_type": "markdown",
   "id": "99c54bf6-f797-4cfc-af93-e612e4706fc4",
   "metadata": {},
   "source": [
    "Delete the folders that begin with \"stale_\" - this will select only the folders which are not fresh, while if the condition is to select all the folders that do not have the phrase \"fresh_\", the command could delete all of the already corrected folders in case it is ran once more by mistake.\n"
   ]
  },
  {
   "cell_type": "code",
   "execution_count": null,
   "id": "9cc4e617-6da2-4bd4-adf4-3dd8766d40e4",
   "metadata": {},
   "outputs": [],
   "source": [
    "stale_str = \"stale_\"\n",
    "\n",
    "fresh_fruit_list\n",
    "\n",
    "# Identify the folders that contain \"stale_\"\n",
    "stale_folders_delete = [item for item in fresh_fruit_list if os.path.isdir(os.path.join(fresh_fruit_path, item)) and stale_str in item]\n",
    "\n",
    "# Delete the identified folders \n",
    "for stale_folder in stale_folders_delete:\n",
    "    stale_folder_path = os.path.join(fresh_fruit_path, stale_folder)\n",
    "\n",
    "    try:\n",
    "        # use shutil.rmtree() to delete the folder and its contents\n",
    "        shutil.rmtree(stale_folder_path)\n",
    "        print(f\"Folder {stale_folder} deleted successfully.\")\n",
    "    except Exception as e:\n",
    "        print(f\"error in {stale_folder} deletion: {e}\")\n",
    "\n",
    "print(\"Deletion process completed.\")"
   ]
  },
  {
   "cell_type": "code",
   "execution_count": null,
   "id": "63382d94-c0d4-42e3-9d83-3948fa97d48d",
   "metadata": {},
   "outputs": [],
   "source": [
    "fresh_data_list = os.listdir(fresh_fruit_path)\n",
    "fresh_data_list"
   ]
  },
  {
   "cell_type": "markdown",
   "id": "df96bfdb-a598-448c-ab05-0dfc9645a7f5",
   "metadata": {},
   "source": [
    "Find all of the classes/images that have representation in both datasets, i.e. the matching classes:"
   ]
  },
  {
   "cell_type": "code",
   "execution_count": null,
   "id": "ab0090b5-50c7-40f3-a367-8227208f9fa8",
   "metadata": {},
   "outputs": [],
   "source": [
    "matching_classes = [item for item in fresh_data_list if item in train_data_list]\n",
    "matching_classes"
   ]
  },
  {
   "cell_type": "markdown",
   "id": "7abc6eba-38e8-4499-a452-7be7d7086610",
   "metadata": {},
   "source": [
    "Split the fresh fruit folders into train and test sets"
   ]
  },
  {
   "cell_type": "code",
   "execution_count": null,
   "id": "bf24d1fa-8c04-4307-805d-f0741a577e21",
   "metadata": {},
   "outputs": [],
   "source": [
    "split_ratio = 0.8\n",
    "\n",
    "for fruit in matching_classes:\n",
    "    starting_folder = current_directory + r\"\\fresh_fruit\\{}\".format(fruit)\n",
    "    train_folder = current_directory + r\"\\fresh_fruit\\train\\{}\".format(fruit)\n",
    "    test_folder = current_directory + r\"\\fresh_fruit\\test\\{}\".format(fruit)\n",
    "    split_folder(starting_folder, train_folder, test_folder, split_ratio)"
   ]
  },
  {
   "cell_type": "markdown",
   "id": "3a767778-d502-436b-99df-fa31e10a1a57",
   "metadata": {},
   "source": [
    "### Load and process the fresh train set"
   ]
  },
  {
   "cell_type": "code",
   "execution_count": 32,
   "id": "83cffcd7-9697-40e5-97e0-47cb41c1dd79",
   "metadata": {},
   "outputs": [],
   "source": [
    "train_fresh_data_dir = current_directory + r\"\\fresh_fruit\\train\""
   ]
  },
  {
   "cell_type": "code",
   "execution_count": 33,
   "id": "ba20d204-ed18-474d-999a-a3b23cf4e115",
   "metadata": {},
   "outputs": [
    {
     "name": "stdout",
     "output_type": "stream",
     "text": [
      "Found 5366 images belonging to 5 classes.\n"
     ]
    }
   ],
   "source": [
    "train_fresh_generator = datagen.flow_from_directory(\n",
    "    train_fresh_data_dir,\n",
    "    target_size=(64, 64),\n",
    "    batch_size=32, # resulting in 167 batches per epoch\n",
    "    class_mode=\"categorical\"\n",
    ")"
   ]
  },
  {
   "cell_type": "markdown",
   "id": "1c20c51c-44fc-4f8f-8eaa-5dbe5c0a3a58",
   "metadata": {},
   "source": [
    "Record how many Fresh classes and train samples there are "
   ]
  },
  {
   "cell_type": "code",
   "execution_count": 34,
   "id": "83059448-3adc-4f15-9cb9-ea5a51803220",
   "metadata": {},
   "outputs": [
    {
     "data": {
      "text/plain": [
       "5366"
      ]
     },
     "execution_count": 34,
     "metadata": {},
     "output_type": "execute_result"
    }
   ],
   "source": [
    "mlflow.log_param(\"Fresh_num_classes\", train_fresh_generator.num_classes)\n",
    "mlflow.log_param(\"Fresh_train_num_images\", len(train_fresh_generator.filenames))"
   ]
  },
  {
   "cell_type": "markdown",
   "id": "72a6fef4-f8f7-4cd5-ac88-9b9e7e817f6a",
   "metadata": {},
   "source": [
    "### Load and process the fresh test set"
   ]
  },
  {
   "cell_type": "code",
   "execution_count": 35,
   "id": "68583a1c-c08a-4f63-ad1c-fc240f6e8940",
   "metadata": {},
   "outputs": [],
   "source": [
    "test_fresh_data_dir = current_directory + r\"\\fresh_fruit\\test\""
   ]
  },
  {
   "cell_type": "code",
   "execution_count": 36,
   "id": "176c5f7b-4fa1-4c17-923e-7f28eec854f8",
   "metadata": {},
   "outputs": [
    {
     "name": "stdout",
     "output_type": "stream",
     "text": [
      "Found 1345 images belonging to 5 classes.\n"
     ]
    }
   ],
   "source": [
    "test_fresh_generator = datagen.flow_from_directory(\n",
    "    test_fresh_data_dir,\n",
    "    target_size=(64, 64),\n",
    "    batch_size=32, \n",
    "    class_mode=\"categorical\"\n",
    ")"
   ]
  },
  {
   "cell_type": "markdown",
   "id": "a6201356-f513-49e3-86aa-7c92c6ea71ad",
   "metadata": {},
   "source": [
    "Record the fresh test samples as well:"
   ]
  },
  {
   "cell_type": "code",
   "execution_count": 37,
   "id": "19ac38f8-9bc0-4d6a-bd62-49468200d81b",
   "metadata": {},
   "outputs": [
    {
     "data": {
      "text/plain": [
       "1345"
      ]
     },
     "execution_count": 37,
     "metadata": {},
     "output_type": "execute_result"
    }
   ],
   "source": [
    "mlflow.log_param(\"Fresh_test_num_images\", len(test_fresh_generator.filenames))"
   ]
  },
  {
   "cell_type": "markdown",
   "id": "eab5b9cb-1320-476c-8b96-40849d15eced",
   "metadata": {},
   "source": [
    "### Creation of the Fresh Model"
   ]
  },
  {
   "cell_type": "markdown",
   "id": "940ae6f2-74ff-48fb-900b-9234e976c352",
   "metadata": {},
   "source": [
    "It is almost the same as the first model, with one little difference - the number of classes is different, in this case it is <b>5</b>. Therefore, the output layer needs to be with the same number of end nodes. "
   ]
  },
  {
   "cell_type": "code",
   "execution_count": 38,
   "id": "fa8b186c-b18f-481e-86e8-55f739334ed3",
   "metadata": {},
   "outputs": [],
   "source": [
    "def create_fresh_model():\n",
    "    \n",
    "    # Create the NN model: \n",
    "    model = Sequential()\n",
    "    \n",
    "    # Add a convolutional layer with ReLU activation\n",
    "    model.add(Conv2D(32, (3, 3), activation=\"relu\", input_shape=(64, 64, 3)))\n",
    "    model.add(MaxPooling2D((2, 2)))\n",
    "    \n",
    "    # Add another convolutional layer\n",
    "    model.add(Conv2D(64, (3, 3), activation=\"relu\"))\n",
    "    model.add(MaxPooling2D((2, 2)))\n",
    "    \n",
    "    # Flatten the output and add a Dense layer with a ReLU activation\n",
    "    model.add(Flatten())\n",
    "    model.add(Dense(64, activation=\"relu\"))\n",
    "    \n",
    "    # Add the output layer \n",
    "    model.add(Dense(5, activation=\"softmax\"))\n",
    "    \n",
    "    # Compile the model:\n",
    "    model.compile(optimizer=\"adam\",\n",
    "                  loss=\"categorical_crossentropy\", \n",
    "                  metrics=[\"accuracy\"]\n",
    "                 )\n",
    "    return model\n"
   ]
  },
  {
   "cell_type": "code",
   "execution_count": 39,
   "id": "44c7aa12-cbb5-422d-91a2-7d2d06e17cd5",
   "metadata": {},
   "outputs": [],
   "source": [
    "fresh_model = create_fresh_model()\n",
    "# fresh_model.summary()"
   ]
  },
  {
   "cell_type": "code",
   "execution_count": 40,
   "id": "0c5cbd24-3ce8-4e78-8302-55550e94cefe",
   "metadata": {},
   "outputs": [
    {
     "name": "stdout",
     "output_type": "stream",
     "text": [
      "Epoch 1/30\n"
     ]
    },
    {
     "name": "stderr",
     "output_type": "stream",
     "text": [
      "C:\\Users\\rstef\\AppData\\Local\\Temp\\ipykernel_12060\\4119488398.py:1: UserWarning: `Model.fit_generator` is deprecated and will be removed in a future version. Please use `Model.fit`, which supports generators.\n",
      "  fresh_history = fresh_model.fit_generator(\n"
     ]
    },
    {
     "name": "stdout",
     "output_type": "stream",
     "text": [
      "167/167 [==============================] - 24s 142ms/step - loss: 0.2864 - accuracy: 0.9034 - val_loss: 0.1705 - val_accuracy: 0.9464\n",
      "Epoch 2/30\n",
      "167/167 [==============================] - 23s 139ms/step - loss: 0.0901 - accuracy: 0.9717 - val_loss: 0.1769 - val_accuracy: 0.9129\n",
      "Epoch 3/30\n",
      "167/167 [==============================] - 24s 144ms/step - loss: 0.0485 - accuracy: 0.9833 - val_loss: 0.1196 - val_accuracy: 0.9442\n",
      "Epoch 4/30\n",
      "167/167 [==============================] - 24s 141ms/step - loss: 0.0211 - accuracy: 0.9944 - val_loss: 0.0408 - val_accuracy: 0.9859\n",
      "Epoch 5/30\n",
      "167/167 [==============================] - 24s 142ms/step - loss: 0.0198 - accuracy: 0.9938 - val_loss: 0.0271 - val_accuracy: 0.9881\n",
      "Epoch 6/30\n",
      "167/167 [==============================] - 23s 139ms/step - loss: 0.0118 - accuracy: 0.9966 - val_loss: 0.0314 - val_accuracy: 0.9881\n",
      "Epoch 7/30\n",
      "167/167 [==============================] - 23s 140ms/step - loss: 0.0178 - accuracy: 0.9953 - val_loss: 0.0768 - val_accuracy: 0.9717\n",
      "Epoch 8/30\n",
      "167/167 [==============================] - 23s 140ms/step - loss: 0.0332 - accuracy: 0.9886 - val_loss: 0.0488 - val_accuracy: 0.9807\n"
     ]
    }
   ],
   "source": [
    "fresh_history = fresh_model.fit_generator(\n",
    "    train_fresh_generator,\n",
    "    steps_per_epoch=train_fresh_generator.samples // train_fresh_generator.batch_size,\n",
    "    epochs = epochs,\n",
    "    validation_data = test_fresh_generator,\n",
    "    validation_steps = test_fresh_generator.samples // test_fresh_generator.batch_size,\n",
    "    callbacks=[early_stopping]\n",
    ")"
   ]
  },
  {
   "cell_type": "markdown",
   "id": "413edf01-d603-4971-87f8-431ac90dc9e9",
   "metadata": {},
   "source": [
    "### Fresh Visualisations after training with own data\n"
   ]
  },
  {
   "cell_type": "markdown",
   "id": "0cc43e1b-f25b-4920-8a1f-34217d62228d",
   "metadata": {},
   "source": [
    "#### Loss curve"
   ]
  },
  {
   "cell_type": "code",
   "execution_count": 41,
   "id": "13608792-4c31-4702-9785-96d5a57cb33a",
   "metadata": {},
   "outputs": [
    {
     "data": {
      "image/png": "[encoded data removed]",
      "text/plain": [
       "<Figure size 640x480 with 1 Axes>"
      ]
     },
     "metadata": {},
     "output_type": "display_data"
    }
   ],
   "source": [
    "plt.plot(fresh_history.history['loss'], label='train')\n",
    "plt.plot(fresh_history.history['val_loss'], label='test')\n",
    "plt.ylabel(\"Loss per FRESH epoch\")\n",
    "plt.xlabel(\"Epochs\")\n",
    "plt.title(\"Loss curves for the FRESH test and train set\")\n",
    "plt.legend()\n",
    "plt.show()"
   ]
  },
  {
   "cell_type": "markdown",
   "id": "6dae2ef5-b5f3-4d2a-9c4c-95c447b9e771",
   "metadata": {},
   "source": [
    "### Accuracy curve"
   ]
  },
  {
   "cell_type": "code",
   "execution_count": 42,
   "id": "7077f26b-08b7-4f61-9acf-cf15d9411625",
   "metadata": {},
   "outputs": [
    {
     "data": {
      "image/png": "[encoded data removed]",
      "text/plain": [
       "<Figure size 640x480 with 1 Axes>"
      ]
     },
     "metadata": {},
     "output_type": "display_data"
    }
   ],
   "source": [
    "plt.plot(fresh_history.history['accuracy'], label='train_acc')\n",
    "plt.plot(fresh_history.history['val_accuracy'], label='test_acc')\n",
    "plt.ylabel(\"Accuracy per FRESH epoch\")\n",
    "plt.xlabel(\"Epochs\")\n",
    "plt.title(\"Accuracy curves for the FRESH test and train set\")\n",
    "plt.legend()\n",
    "plt.show()"
   ]
  },
  {
   "cell_type": "markdown",
   "id": "8a30219d-669f-4e1d-a7f3-0cbc2d1d1cfa",
   "metadata": {},
   "source": [
    "### Save the weights of the entire Fresh model:"
   ]
  },
  {
   "cell_type": "code",
   "execution_count": 43,
   "id": "8e02b54a-6fac-473e-b504-d894a4a15b32",
   "metadata": {},
   "outputs": [],
   "source": [
    "fresh_model.save_weights(\"./checkpoints/fresh_checkpoint\")"
   ]
  },
  {
   "cell_type": "markdown",
   "id": "6977b67b-37b3-4c96-bcf7-e9f95fcfc59c",
   "metadata": {},
   "source": [
    "#### Create a new model instance that does not have the knowledge obtained from the training set:\n",
    "\n",
    "**This is to be used to directly load the trained model:**"
   ]
  },
  {
   "cell_type": "code",
   "execution_count": 44,
   "id": "4108a8c4-ac4a-4d9b-9b8a-65644d819feb",
   "metadata": {},
   "outputs": [],
   "source": [
    "restore_fresh_model = create_fresh_model()"
   ]
  },
  {
   "cell_type": "markdown",
   "id": "2ac2537c-a4e1-4a97-895e-e5aee2ef6c89",
   "metadata": {},
   "source": [
    "#### Restore the weights and load them on to the new fresh model:"
   ]
  },
  {
   "cell_type": "code",
   "execution_count": 45,
   "id": "ea145b0c-8624-4f19-997a-d66014ae11cb",
   "metadata": {},
   "outputs": [
    {
     "data": {
      "text/plain": [
       "<tensorflow.python.checkpoint.checkpoint.CheckpointLoadStatus at 0x26a005502b0>"
      ]
     },
     "execution_count": 45,
     "metadata": {},
     "output_type": "execute_result"
    }
   ],
   "source": [
    "restore_fresh_model.load_weights(\"./checkpoints/fresh_checkpoint\")"
   ]
  },
  {
   "cell_type": "markdown",
   "id": "bb1619f2-5a1d-493d-8a1f-79818c721179",
   "metadata": {},
   "source": [
    "### Logging Fresh results, metrics  "
   ]
  },
  {
   "cell_type": "markdown",
   "id": "6c0cbab1-e116-452f-9f60-1711d71e98eb",
   "metadata": {},
   "source": [
    "#### Log the loss and accuracy of the fresh model "
   ]
  },
  {
   "cell_type": "code",
   "execution_count": 46,
   "id": "3460ce09-fa33-4903-a5e2-7720f4d2fa33",
   "metadata": {},
   "outputs": [],
   "source": [
    "mlflow.log_metric(\"min_fresh_loss\", round(min(fresh_history.history[\"val_loss\"]), 4))\n",
    "mlflow.log_metric(\"max__fresh_accuracy\", round(max(fresh_history.history[\"val_accuracy\"]), 4))"
   ]
  },
  {
   "cell_type": "markdown",
   "id": "217e0822-a9cd-4d93-975d-d16f18bb80c6",
   "metadata": {},
   "source": [
    "### Training the model further on the train set of the first model and then test with the TEST set of the first model:\n",
    "\n"
   ]
  },
  {
   "cell_type": "markdown",
   "id": "ba232c93-1864-4db9-aa92-621853c7fee9",
   "metadata": {},
   "source": [
    "#### Make a copy of the folders from the first dataset that match the new / fresh classes "
   ]
  },
  {
   "cell_type": "code",
   "execution_count": 47,
   "id": "110c1af0-aa29-4936-be52-d54bd576b97a",
   "metadata": {},
   "outputs": [
    {
     "data": {
      "text/plain": [
       "'C:\\\\Users\\\\rstef\\\\Documents\\\\!SoftUni_ML\\\\ML_full_project\\\\fruits_veg\\\\train'"
      ]
     },
     "execution_count": 47,
     "metadata": {},
     "output_type": "execute_result"
    }
   ],
   "source": [
    "train_data_dir"
   ]
  },
  {
   "cell_type": "code",
   "execution_count": 48,
   "id": "3433cdac-e526-4b1f-ab40-818cd82d06f2",
   "metadata": {},
   "outputs": [
    {
     "name": "stdout",
     "output_type": "stream",
     "text": [
      "C:\\Users\\rstef\\Documents\\!SoftUni_ML\\ML_full_project\\fruits_veg\\train_5_classes\n"
     ]
    },
    {
     "ename": "NameError",
     "evalue": "name 'matching_classes' is not defined",
     "output_type": "error",
     "traceback": [
      "\u001b[1;31m---------------------------------------------------------------------------\u001b[0m",
      "\u001b[1;31mNameError\u001b[0m                                 Traceback (most recent call last)",
      "Cell \u001b[1;32mIn [48], line 9\u001b[0m\n\u001b[0;32m      5\u001b[0m new_5_cls_train_path \u001b[38;5;241m=\u001b[39m os\u001b[38;5;241m.\u001b[39mpath\u001b[38;5;241m.\u001b[39mjoin(fruit_veg_path, train_5_cls_folder_name)\n\u001b[0;32m      7\u001b[0m \u001b[38;5;28mprint\u001b[39m(new_5_cls_train_path)\n\u001b[1;32m----> 9\u001b[0m \u001b[38;5;28;01mfor\u001b[39;00m item \u001b[38;5;129;01min\u001b[39;00m \u001b[43mmatching_classes\u001b[49m:\n\u001b[0;32m     10\u001b[0m     source_path \u001b[38;5;241m=\u001b[39m os\u001b[38;5;241m.\u001b[39mpath\u001b[38;5;241m.\u001b[39mjoin(train_data_dir, item)\n\u001b[0;32m     11\u001b[0m     destination_path \u001b[38;5;241m=\u001b[39m os\u001b[38;5;241m.\u001b[39mpath\u001b[38;5;241m.\u001b[39mjoin(new_5_cls_train_path, item)\n",
      "\u001b[1;31mNameError\u001b[0m: name 'matching_classes' is not defined"
     ]
    }
   ],
   "source": [
    "fruit_veg_path = current_directory + r\"\\fruits_veg\"\n",
    "\n",
    "train_5_cls_folder_name = \"train_5_classes\"\n",
    "\n",
    "new_5_cls_train_path = os.path.join(fruit_veg_path, train_5_cls_folder_name)\n",
    "\n",
    "print(new_5_cls_train_path)\n",
    "\n",
    "for item in matching_classes:\n",
    "    source_path = os.path.join(train_data_dir, item)\n",
    "    destination_path = os.path.join(new_5_cls_train_path, item)\n",
    "    shutil.copytree(source_path, destination_path)"
   ]
  },
  {
   "cell_type": "markdown",
   "id": "20e2856e-37eb-43de-9115-76aab78ef2f1",
   "metadata": {},
   "source": [
    "And from the test folder:"
   ]
  },
  {
   "cell_type": "code",
   "execution_count": null,
   "id": "7306d871-1f94-4ada-ac1a-31488e35e012",
   "metadata": {},
   "outputs": [],
   "source": [
    "test_data_dir"
   ]
  },
  {
   "cell_type": "code",
   "execution_count": null,
   "id": "1947eaef-5cdc-420f-b8b8-d177a70e4b48",
   "metadata": {},
   "outputs": [],
   "source": [
    "test_5_cls_folder_name = \"test_5_classes\"\n",
    "\n",
    "new_5_cls_test_path = os.path.join(fruit_veg_path, test_5_cls_folder_name)\n",
    "\n",
    "print(new_5_cls_test_path)\n",
    "\n",
    "for item in matching_classes:\n",
    "    source_path = os.path.join(test_data_dir, item)\n",
    "    destination_path = os.path.join(new_5_cls_test_path, item)\n",
    "    shutil.copytree(source_path, destination_path)"
   ]
  },
  {
   "cell_type": "code",
   "execution_count": 49,
   "id": "fa5ff800-39e2-4b08-a871-e8fc416b1453",
   "metadata": {},
   "outputs": [],
   "source": [
    "train_5_classes_dir = current_directory + r\"\\fruits_veg\\train_5_classes\""
   ]
  },
  {
   "cell_type": "code",
   "execution_count": 50,
   "id": "b7d2d0f6-7ba0-4928-94c2-2dd9048040cb",
   "metadata": {},
   "outputs": [
    {
     "name": "stdout",
     "output_type": "stream",
     "text": [
      "Found 393 images belonging to 5 classes.\n"
     ]
    }
   ],
   "source": [
    "train_5_classes_generator = datagen.flow_from_directory(\n",
    "    train_5_classes_dir,\n",
    "    target_size=(64, 64),\n",
    "    batch_size=32,\n",
    "    class_mode=\"categorical\"\n",
    ")"
   ]
  },
  {
   "cell_type": "markdown",
   "id": "7f0a77b5-6f11-4b70-9750-d00c44e2152a",
   "metadata": {},
   "source": [
    "Log the number of images that is filtered out of the first dataset's train set"
   ]
  },
  {
   "cell_type": "code",
   "execution_count": 51,
   "id": "256008b8-dc56-4a97-bbcf-a2c6202de6a7",
   "metadata": {},
   "outputs": [
    {
     "data": {
      "text/plain": [
       "393"
      ]
     },
     "execution_count": 51,
     "metadata": {},
     "output_type": "execute_result"
    }
   ],
   "source": [
    "mlflow.log_param(\"Train_5_classes_num_images\", len(train_5_classes_generator.filenames))"
   ]
  },
  {
   "cell_type": "code",
   "execution_count": 52,
   "id": "1e555986-8aae-4939-adba-a9b13ff722ae",
   "metadata": {},
   "outputs": [
    {
     "name": "stdout",
     "output_type": "stream",
     "text": [
      "Epoch 1/30\n"
     ]
    },
    {
     "name": "stderr",
     "output_type": "stream",
     "text": [
      "C:\\Users\\rstef\\AppData\\Local\\Temp\\ipykernel_12060\\4086946765.py:1: UserWarning: `Model.fit_generator` is deprecated and will be removed in a future version. Please use `Model.fit`, which supports generators.\n",
      "  fresh_history = fresh_model.fit_generator(\n"
     ]
    },
    {
     "name": "stdout",
     "output_type": "stream",
     "text": [
      "167/167 [==============================] - 28s 166ms/step - loss: 0.0053 - accuracy: 0.9983 - val_loss: 8.5331 - val_accuracy: 0.3828\n",
      "Epoch 2/30\n",
      "167/167 [==============================] - 28s 167ms/step - loss: 0.0238 - accuracy: 0.9908 - val_loss: 8.5039 - val_accuracy: 0.4141\n",
      "Epoch 3/30\n",
      "167/167 [==============================] - 28s 168ms/step - loss: 0.0022 - accuracy: 0.9994 - val_loss: 9.8421 - val_accuracy: 0.3672\n",
      "Epoch 4/30\n",
      "167/167 [==============================] - 28s 170ms/step - loss: 6.0019e-04 - accuracy: 1.0000 - val_loss: 10.1316 - val_accuracy: 0.3932\n",
      "Epoch 5/30\n",
      "167/167 [==============================] - 28s 168ms/step - loss: 0.0606 - accuracy: 0.9820 - val_loss: 5.7716 - val_accuracy: 0.4062\n"
     ]
    }
   ],
   "source": [
    "fresh_history = fresh_model.fit_generator(\n",
    "    train_fresh_generator,\n",
    "    steps_per_epoch=train_fresh_generator.samples // train_fresh_generator.batch_size,\n",
    "    epochs = epochs,\n",
    "    validation_data = train_5_classes_generator,\n",
    "    validation_steps = train_5_classes_generator.samples // train_5_classes_generator.batch_size,\n",
    "    callbacks=[early_stopping]\n",
    ")"
   ]
  },
  {
   "cell_type": "markdown",
   "id": "14554e3e-16bf-477c-827e-3e8af2e517dc",
   "metadata": {},
   "source": [
    "### Fresh Visualisations after training with first dataset's training data"
   ]
  },
  {
   "cell_type": "markdown",
   "id": "3126c59e-aa66-408c-a560-33f7933f4284",
   "metadata": {},
   "source": [
    "#### Loss curve"
   ]
  },
  {
   "cell_type": "code",
   "execution_count": 53,
   "id": "2e9d790f-3a75-4a47-836a-421a1e2c0013",
   "metadata": {},
   "outputs": [
    {
     "data": {
      "image/png": "[encoded data removed]",
      "text/plain": [
       "<Figure size 640x480 with 1 Axes>"
      ]
     },
     "metadata": {},
     "output_type": "display_data"
    }
   ],
   "source": [
    "plt.plot(fresh_history.history['loss'], label='train')\n",
    "plt.plot(fresh_history.history['val_loss'], label='test')\n",
    "plt.ylabel(\"Loss per FRESH w/ train set epoch\")\n",
    "plt.xlabel(\"Epochs\")\n",
    "plt.title(\"Loss curves for the FRESH w/ test and train set\")\n",
    "plt.legend()\n",
    "plt.show()"
   ]
  },
  {
   "cell_type": "markdown",
   "id": "de7e77ae-d0b0-4bac-803b-4d8a0ae63bfc",
   "metadata": {},
   "source": [
    "#### Accuracy curve"
   ]
  },
  {
   "cell_type": "code",
   "execution_count": 54,
   "id": "36436bb4-0c0a-403d-ab2f-41712a70e724",
   "metadata": {},
   "outputs": [
    {
     "data": {
      "image/png": "[encoded data removed]",
      "text/plain": [
       "<Figure size 640x480 with 1 Axes>"
      ]
     },
     "metadata": {},
     "output_type": "display_data"
    }
   ],
   "source": [
    "plt.plot(fresh_history.history['accuracy'], label='train_acc')\n",
    "plt.plot(fresh_history.history['val_accuracy'], label='test_acc')\n",
    "plt.ylabel(\"Accuracy per FRESH epoch\")\n",
    "plt.xlabel(\"Epochs\")\n",
    "plt.title(\"Accuracy curves for the FRESH test and train set\")\n",
    "plt.legend()\n",
    "plt.show()"
   ]
  },
  {
   "cell_type": "markdown",
   "id": "65862f11-4621-402a-933c-cda303d88bef",
   "metadata": {},
   "source": [
    "### Logging Fresh results, metrics  "
   ]
  },
  {
   "cell_type": "markdown",
   "id": "0457e17b-18de-44e8-8ab5-e469ab1464db",
   "metadata": {},
   "source": [
    "#### Log the loss and accuracy of the fresh model "
   ]
  },
  {
   "cell_type": "code",
   "execution_count": 55,
   "id": "69caf2d0-3690-47be-8452-a2900e934641",
   "metadata": {},
   "outputs": [],
   "source": [
    "mlflow.log_metric(\"Min_loss_fresh_with_train_5_classes_loss\", round(min(fresh_history.history[\"val_loss\"]), 4))\n",
    "mlflow.log_metric(\"Max_fresh_with_train_5_classes_accuracy\", round(max(fresh_history.history[\"val_accuracy\"]), 4))"
   ]
  },
  {
   "cell_type": "markdown",
   "id": "298d6b0b-9ff8-4924-aa36-ecdd1729de95",
   "metadata": {},
   "source": [
    "### Create a filtered test set from the first test dataset as validation and evaluation of the fresh model: "
   ]
  },
  {
   "cell_type": "code",
   "execution_count": 56,
   "id": "f9813f2b-8357-41cb-8fd2-059ec54f69e5",
   "metadata": {},
   "outputs": [],
   "source": [
    "test_5_classes_dir = current_directory + r\"\\fruits_veg\\test_5_classes\""
   ]
  },
  {
   "cell_type": "code",
   "execution_count": 57,
   "id": "8b11a3a6-1db0-47a9-8132-fa31e6da8983",
   "metadata": {
    "scrolled": true
   },
   "outputs": [
    {
     "name": "stdout",
     "output_type": "stream",
     "text": [
      "Found 49 images belonging to 5 classes.\n"
     ]
    }
   ],
   "source": [
    "test_5_classes_generator = datagen.flow_from_directory(\n",
    "    test_5_classes_dir,\n",
    "    target_size=(64, 64),\n",
    "    batch_size=32,\n",
    "    class_mode=\"categorical\"\n",
    ")"
   ]
  },
  {
   "cell_type": "markdown",
   "id": "d3d420e5-d27a-40f6-8ad2-d35e3826a4df",
   "metadata": {},
   "source": [
    "Log the number of images that is filtered from the first dataset's test set"
   ]
  },
  {
   "cell_type": "code",
   "execution_count": 58,
   "id": "3b709194-24da-424e-a433-921a180b4fb1",
   "metadata": {},
   "outputs": [
    {
     "data": {
      "text/plain": [
       "49"
      ]
     },
     "execution_count": 58,
     "metadata": {},
     "output_type": "execute_result"
    }
   ],
   "source": [
    "mlflow.log_param(\"Test_5_classes_num_images\", len(test_5_classes_generator.filenames))"
   ]
  },
  {
   "cell_type": "markdown",
   "id": "e3d9dd4b-e0cd-453f-b66d-6b23b87909aa",
   "metadata": {},
   "source": [
    "#### Evaluate the fresh Model's performance when presented with new test data"
   ]
  },
  {
   "cell_type": "code",
   "execution_count": 59,
   "id": "4cfb0a33-ff7c-4875-9941-881d8cc4b615",
   "metadata": {},
   "outputs": [
    {
     "name": "stdout",
     "output_type": "stream",
     "text": [
      "2/2 - 1s - loss: 4.0335 - accuracy: 0.5510 - 1s/epoch - 714ms/step\n",
      "4.0334954261779785 0.5510203838348389\n"
     ]
    }
   ],
   "source": [
    "fresh_loss, fresh_acc = fresh_model.evaluate(test_5_classes_generator, verbose=2)\n",
    "print(fresh_loss, fresh_acc)"
   ]
  },
  {
   "cell_type": "markdown",
   "id": "bf956ef8-f87e-4408-9ed8-e79854096c91",
   "metadata": {},
   "source": [
    "Log the metrics showing how well the fresh model managed to classify the newly presented images. "
   ]
  },
  {
   "cell_type": "code",
   "execution_count": 60,
   "id": "a7fc69fd-3835-461f-a574-6f759ac8c4f0",
   "metadata": {},
   "outputs": [],
   "source": [
    "mlflow.log_metric(\"Fresh_model_new_data_test_loss\", round(fresh_loss, 4))\n",
    "mlflow.log_metric(\"Fresh_model_new_data_test_accuracy\", round(fresh_acc,4))"
   ]
  },
  {
   "cell_type": "markdown",
   "id": "d4125a16-4286-4b9f-8f62-1d4d00e26fa3",
   "metadata": {},
   "source": [
    "As we can see, the training of the Neural network firstly on a split sample of its dataset reveals a high accuracy rates, which could mean that the model is overfitting the data. Then, the model is once again trained on the train samples from the first dataset to see if the new information would be accepted and learned by the model. It appears that this is not the case, as the accuracy gets \"stuck\" at 40%. When evaluating the model on the test set from the first dataset, the results are slightly more accurate, however, they still cannot pass above the 50% mark. \n",
    "\n",
    "Given this large dataset of clearly defined images, it is interesting to notice a sort of \"inability\" of the model to learn new information even if the images are slightly more different than the initial samples. To cope with those issues, a further parameter tuning can be performed, so that the estimators/weights on the nodes of the neural network better predict the type of fruit "
   ]
  },
  {
   "cell_type": "markdown",
   "id": "1785bb68-0178-41d3-b6fe-05ab979d61c2",
   "metadata": {},
   "source": [
    "### Save the weights of the entire fresh model:\n"
   ]
  },
  {
   "cell_type": "code",
   "execution_count": 61,
   "id": "170e4dac-5ba5-4464-acdb-0a38f9b02838",
   "metadata": {},
   "outputs": [],
   "source": [
    "fresh_model.save_weights(\"./checkpoints/my_fresh_final_checkpoint\")"
   ]
  },
  {
   "cell_type": "markdown",
   "id": "8c0fe2a1-eb18-418e-a91e-a6a27f8ce9e2",
   "metadata": {},
   "source": [
    "#### Create a new model instance that does not have the knowledge obtained from the training set:\n",
    "\n",
    "**This is to be used to directly load the trained model:**"
   ]
  },
  {
   "cell_type": "code",
   "execution_count": 62,
   "id": "432c7d64-3f7e-47bb-a38a-0413ace9d123",
   "metadata": {},
   "outputs": [],
   "source": [
    "restore_fresh_model = create_fresh_model()"
   ]
  },
  {
   "cell_type": "markdown",
   "id": "1e7e3cc3-c794-4ae2-8da4-b24615a489f3",
   "metadata": {},
   "source": [
    "#### Restore the weights and load them on to the new fresh model:"
   ]
  },
  {
   "cell_type": "code",
   "execution_count": null,
   "id": "a593a6c9-d1c6-46db-84b5-0a13e959acc9",
   "metadata": {},
   "outputs": [],
   "source": [
    "restore_fresh_model.load_weights(\"./checkpoints/my_fresh_final_checkpoint\")"
   ]
  },
  {
   "cell_type": "markdown",
   "id": "eddbec32-3db1-4c36-a0ed-b441fb925c5d",
   "metadata": {},
   "source": [
    "## Save the models and stop the Mlflow server run"
   ]
  },
  {
   "cell_type": "code",
   "execution_count": 63,
   "id": "ab30d82d-2892-4cd0-b0f5-9f15b5fc9693",
   "metadata": {
    "scrolled": true
   },
   "outputs": [
    {
     "name": "stderr",
     "output_type": "stream",
     "text": [
      "2023/11/27 13:52:43 WARNING mlflow.tensorflow: You are saving a TensorFlow Core model or Keras model without a signature. Inference with mlflow.pyfunc.spark_udf() will not work unless the model's pyfunc representation accepts pandas DataFrames as inference inputs.\n"
     ]
    },
    {
     "name": "stdout",
     "output_type": "stream",
     "text": [
      "INFO:tensorflow:Assets written to: C:\\Users\\rstef\\Documents\\!SoftUni_ML\\ML_full_project\\First model\\data\\model\\assets\n"
     ]
    },
    {
     "name": "stderr",
     "output_type": "stream",
     "text": [
      "INFO:tensorflow:Assets written to: C:\\Users\\rstef\\Documents\\!SoftUni_ML\\ML_full_project\\First model\\data\\model\\assets\n",
      "2023/11/27 13:52:47 WARNING mlflow.utils.environment: Encountered an unexpected error while inferring pip requirements (model URI: C:\\Users\\rstef\\Documents\\!SoftUni_ML\\ML_full_project\\First model, flavor: tensorflow), fall back to return ['tensorflow==2.15.0']. Set logging level to DEBUG to see the full traceback.\n",
      "C:\\Users\\rstef\\AppData\\Local\\Programs\\Python\\Python310\\lib\\site-packages\\_distutils_hack\\__init__.py:33: UserWarning: Setuptools is replacing distutils.\n",
      "  warnings.warn(\"Setuptools is replacing distutils.\")\n",
      "2023/11/27 13:52:47 WARNING mlflow.tensorflow: You are saving a TensorFlow Core model or Keras model without a signature. Inference with mlflow.pyfunc.spark_udf() will not work unless the model's pyfunc representation accepts pandas DataFrames as inference inputs.\n"
     ]
    },
    {
     "name": "stdout",
     "output_type": "stream",
     "text": [
      "INFO:tensorflow:Assets written to: C:\\Users\\rstef\\Documents\\!SoftUni_ML\\ML_full_project\\Fresh model\\data\\model\\assets\n"
     ]
    },
    {
     "name": "stderr",
     "output_type": "stream",
     "text": [
      "INFO:tensorflow:Assets written to: C:\\Users\\rstef\\Documents\\!SoftUni_ML\\ML_full_project\\Fresh model\\data\\model\\assets\n",
      "2023/11/27 13:52:48 WARNING mlflow.utils.environment: Encountered an unexpected error while inferring pip requirements (model URI: C:\\Users\\rstef\\Documents\\!SoftUni_ML\\ML_full_project\\Fresh model, flavor: tensorflow), fall back to return ['tensorflow==2.15.0']. Set logging level to DEBUG to see the full traceback.\n"
     ]
    }
   ],
   "source": [
    "mlflow.tensorflow.save_model(model, \"First model\")\n",
    "mlflow.tensorflow.save_model(fresh_model, \"Fresh model\")\n",
    "\n",
    "mlflow.end_run()"
   ]
  },
  {
   "cell_type": "markdown",
   "id": "ab87d9f6",
   "metadata": {},
   "source": [
    "## Conclusion and discussion on the results."
   ]
  },
  {
   "cell_type": "markdown",
   "id": "095ad880-38a9-4d9f-aa1c-265dbfe89ab5",
   "metadata": {},
   "source": [
    "As it can be seen from the graphs and from the model fitting of the training data, the neural network is able to learn the dependencies and patterns in the images in less than 25 epochs, when the allowed maximum is 30. The number of the epochs could potentially be improved if the number of images is increased and then more batches will be created with each epoch. Still, this experiment aims to show the power of the Neural Network - the dataset has 36 classes which are contained within no more than 3500 images and the model was already able to differentiate each fruit or vegetable from the validation set with an accuracy of over 90% (92% to be exact). \n",
    "\n",
    "In the second part of this paper, we examined another dataset with a much larger sample size for a limited number of the classes from the first dataset. The neural network managed to converge within just 4 epochs and it managed to achieve a high accuracy score above 95%. This could be explained by the similarity of the train and test images. When presented with another set of images - the train set of the first dataset, the model finds it hard to differentiate the classes and the accuracy drops to approximately 40%. The test set performed generally better reaching about 50%, but still it is far from the initial accuracy. One of the reasons for this event could be overfitting of the model to the test data, which limits the ability of the model to generalise its predictions. \n",
    "\n",
    "Therefore, this piece of research could be extended with more samples and more classes for the creation of an even more complex model, but the initial results clearly show that the model is capable of making almost perfect accurate predictions. The second data reveals another side of the algorithm - presenting slightly different sample data for validation makes it difficult for the model to differentiate the new classes. Consequently, hyperparameter tuning can be undertaken to adjust the model accordingly.\n",
    "\n"
   ]
  },
  {
   "cell_type": "markdown",
   "id": "e64eab80",
   "metadata": {},
   "source": [
    "## References\n"
   ]
  },
  {
   "cell_type": "markdown",
   "id": "8103a144-95dd-4918-b032-72a751d9ee9d",
   "metadata": {},
   "source": [
    "1. The data used for training the original Neural Network has been obtained from Kaggle from the following source: <br>\n",
    "Kritik Seth, \"Fruits and Vegetables Image Recognition Dataset,\" Kaggle 2020 https://www.kaggle.com/kritikseth/fruit-and-vegetable-image-recognition\n",
    "\n",
    "2. The validation data was taken from: <br>\n",
    "Fresh and Stale Images of Fruits and Vegetables: https://www.kaggle.com/datasets/raghavrpotdar/fresh-and-stale-images-of-fruits-and-vegetables/data\n",
    "\n"
   ]
  },
  {
   "cell_type": "markdown",
   "id": "73869aea-15e5-48bf-ae43-d03070ae5cd8",
   "metadata": {},
   "source": [
    "## Appendix"
   ]
  },
  {
   "cell_type": "code",
   "execution_count": null,
   "id": "23ad5ae9-30a9-438a-a0f9-4bd9390e43ef",
   "metadata": {},
   "outputs": [],
   "source": [
    "# # Template for logging parameters/metrics\n",
    "# mlflow.start_run()\n",
    "\n",
    "# # mlflow.log_metric(\"First_dataset_num_classes\", train_generator.num_classes)\n",
    "# # mlflow.log_metric(\"First_dataset_val_num_images\", len(validation_generator.filenames))\n",
    "# mlflow.log_metric(\"Early_stopping_patience\", early_stopping.patience)\n",
    "# mlflow.log_param(\"Early_stopping_monitor\", early_stopping.monitor)\n",
    "\n",
    "# mlflow.end_run()"
   ]
  }
 ],
 "metadata": {
  "kernelspec": {
   "display_name": "Python 3 (ipykernel)",
   "language": "python",
   "name": "python3"
  },
  "language_info": {
   "codemirror_mode": {
    "name": "ipython",
    "version": 3
   },
   "file_extension": ".py",
   "mimetype": "text/x-python",
   "name": "python",
   "nbconvert_exporter": "python",
   "pygments_lexer": "ipython3",
   "version": "3.10.11"
  }
 },
 "nbformat": 4,
 "nbformat_minor": 5
}
